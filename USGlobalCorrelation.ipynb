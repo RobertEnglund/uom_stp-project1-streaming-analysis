{
 "cells": [
  {
   "cell_type": "code",
   "execution_count": null,
   "metadata": {},
   "outputs": [],
   "source": [
    "# How many of the Top 200 songs are the same between the US and globally over the past two months?\n",
    "\n",
    "# Dependencies and Setup\n",
    "import matplotlib.pyplot as plt\n",
    "import pandas as pd\n",
    "import scipy.stats as st\n",
    "import numpy as np\n",
    "from scipy.stats import linregress\n",
    "\n",
    "# data files\n",
    "US_path = \"data/Mouse_metadata.csv\"\n",
    "Global_path = \"data/Study_results.csv\"\n",
    "\n",
    "# Read the mouse data and the study results\n",
    "us_data = pd.read_csv(US_path)\n",
    "global_data = pd.read_csv(Global_path)\n"
   ]
  },
  {
   "cell_type": "code",
   "execution_count": null,
   "metadata": {},
   "outputs": [],
   "source": [
    "# Identify unique song/artists from the past 2 months: US & Global\n",
    "# For each unique song/artist identify min & max position and total streams\n",
    "# What's the total population of unique song/artists in each dataset?\n",
    "# How many unique song/artists are common between datasets?\n",
    "# What percent of total dataset do the common song/artists comprise?\n",
    "# Does statistical analysis of the datasets provide insight?"
   ]
  }
 ],
 "metadata": {
  "anaconda-cloud": {},
  "kernelspec": {
   "display_name": "Python 3",
   "language": "python",
   "name": "python3"
  },
  "language_info": {
   "codemirror_mode": {
    "name": "ipython",
    "version": 3
   },
   "file_extension": ".py",
   "mimetype": "text/x-python",
   "name": "python",
   "nbconvert_exporter": "python",
   "pygments_lexer": "ipython3",
   "version": "3.6.10"
  }
 },
 "nbformat": 4,
 "nbformat_minor": 4
}
