{
 "cells": [
  {
   "cell_type": "code",
   "execution_count": 7,
   "metadata": {},
   "outputs": [],
   "source": [
    "# Dependencies and \n",
    "import matplotlib.pyplot as plt\n",
    "import pandas as pd\n",
    "import scipy.stats as st\n",
    "import numpy as np\n",
    "from datetime import datetime, timedelta\n",
    "from scipy.stats import linregress\n",
    "\n",
    "# data files\n",
    "US_path = \"Combined CSVs/US_combined.csv\"\n",
    "Global_path = \"Combined CSVs/Global_combined.csv\"\n",
    "US_path_RE = \"Combined CSVs/US_combined_CSV_RE.csv\"\n",
    "Global_path_RE = \"Combined CSVs/Global_combined_CSV_RE.csv\"\n",
    "\n",
    "# Read the mouse data and the study results\n",
    "us_data = pd.read_csv(US_path)\n",
    "us_data_RE = pd.read_csv(US_path_RE)\n",
    "global_data = pd.read_csv(Global_path)\n",
    "global_data_RE = pd.read_csv(Global_path_RE)\n"
   ]
  },
  {
   "cell_type": "code",
   "execution_count": 8,
   "metadata": {},
   "outputs": [
    {
     "data": {
      "text/plain": [
       "22          52\n",
       "102         52\n",
       "93          52\n",
       "116         52\n",
       "33          52\n",
       "            ..\n",
       "35          52\n",
       "179         52\n",
       "41          52\n",
       "159         52\n",
       "Position    51\n",
       "Name: Position, Length: 201, dtype: int64"
      ]
     },
     "execution_count": 8,
     "metadata": {},
     "output_type": "execute_result"
    }
   ],
   "source": [
    "global_data[\"Position\"].value_counts()"
   ]
  },
  {
   "cell_type": "code",
   "execution_count": 21,
   "metadata": {},
   "outputs": [
    {
     "data": {
      "text/plain": [
       "22     52\n",
       "102    52\n",
       "93     52\n",
       "116    52\n",
       "33     52\n",
       "       ..\n",
       "46     52\n",
       "35     52\n",
       "179    52\n",
       "41     52\n",
       "159    52\n",
       "Name: Position, Length: 200, dtype: int64"
      ]
     },
     "execution_count": 21,
     "metadata": {},
     "output_type": "execute_result"
    }
   ],
   "source": [
    "us_data[\"Position\"].value_counts()"
   ]
  },
  {
   "cell_type": "code",
   "execution_count": 11,
   "metadata": {},
   "outputs": [
    {
     "name": "stdout",
     "output_type": "stream",
     "text": [
      "US records: 10451\n",
      "Global records: 10451\n"
     ]
    }
   ],
   "source": [
    "print(f\"US records: {len(us_data)}\")\n",
    "print(f\"Global records: {len(global_data)}\")      "
   ]
  },
  {
   "cell_type": "code",
   "execution_count": 12,
   "metadata": {},
   "outputs": [
    {
     "name": "stdout",
     "output_type": "stream",
     "text": [
      "US records: 10400\n",
      "Global records: 10400\n"
     ]
    }
   ],
   "source": [
    "us_data.drop(us_data[us_data.Position == \"Position\"].index, inplace=True)\n",
    "global_data.drop(global_data[global_data.Position == \"Position\"].index, inplace=True)\n",
    "print(f\"US records: {len(us_data)}\")\n",
    "print(f\"Global records: {len(global_data)}\")      "
   ]
  },
  {
   "cell_type": "code",
   "execution_count": 13,
   "metadata": {},
   "outputs": [
    {
     "data": {
      "text/plain": [
       "Position      object\n",
       "Track Name    object\n",
       "Artist        object\n",
       "Streams       object\n",
       "URL           object\n",
       "Date          object\n",
       "Unique ID     object\n",
       "dtype: object"
      ]
     },
     "execution_count": 13,
     "metadata": {},
     "output_type": "execute_result"
    }
   ],
   "source": [
    "us_data.dtypes"
   ]
  },
  {
   "cell_type": "code",
   "execution_count": 14,
   "metadata": {},
   "outputs": [
    {
     "data": {
      "text/plain": [
       "'9934418'"
      ]
     },
     "execution_count": 14,
     "metadata": {},
     "output_type": "execute_result"
    }
   ],
   "source": [
    "us_data[\"Streams\"].max()"
   ]
  },
  {
   "cell_type": "code",
   "execution_count": 20,
   "metadata": {},
   "outputs": [
    {
     "data": {
      "text/plain": [
       "Position      object\n",
       "Track Name    object\n",
       "Artist        object\n",
       "Streams        int32\n",
       "URL           object\n",
       "Date          object\n",
       "Unique ID     object\n",
       "dtype: object"
      ]
     },
     "execution_count": 20,
     "metadata": {},
     "output_type": "execute_result"
    }
   ],
   "source": [
    "us_data[\"Streams\"] = us_data[\"Streams\"].astype(int)\n",
    "us_data.dtypes"
   ]
  },
  {
   "cell_type": "code",
   "execution_count": 15,
   "metadata": {},
   "outputs": [
    {
     "data": {
      "text/plain": [
       "Position             int64\n",
       "Track Name          object\n",
       "Artist              object\n",
       "Streams              int64\n",
       "URL                 object\n",
       "Date                object\n",
       "Unique ID           object\n",
       "Year                 int64\n",
       "Month                int64\n",
       "Day                  int64\n",
       "Full_Year            int64\n",
       "Reformatted_Date     int64\n",
       "dtype: object"
      ]
     },
     "execution_count": 15,
     "metadata": {},
     "output_type": "execute_result"
    }
   ],
   "source": [
    "us_data_RE.dtypes"
   ]
  },
  {
   "cell_type": "code",
   "execution_count": 16,
   "metadata": {},
   "outputs": [
    {
     "data": {
      "text/plain": [
       "24966901"
      ]
     },
     "execution_count": 16,
     "metadata": {},
     "output_type": "execute_result"
    }
   ],
   "source": [
    "us_data_RE[\"Streams\"].max()"
   ]
  },
  {
   "cell_type": "code",
   "execution_count": 17,
   "metadata": {},
   "outputs": [
    {
     "data": {
      "text/html": [
       "<div>\n",
       "<style scoped>\n",
       "    .dataframe tbody tr th:only-of-type {\n",
       "        vertical-align: middle;\n",
       "    }\n",
       "\n",
       "    .dataframe tbody tr th {\n",
       "        vertical-align: top;\n",
       "    }\n",
       "\n",
       "    .dataframe thead th {\n",
       "        text-align: right;\n",
       "    }\n",
       "</style>\n",
       "<table border=\"1\" class=\"dataframe\">\n",
       "  <thead>\n",
       "    <tr style=\"text-align: right;\">\n",
       "      <th></th>\n",
       "      <th>Artist</th>\n",
       "      <th>Streams</th>\n",
       "    </tr>\n",
       "  </thead>\n",
       "  <tbody>\n",
       "    <tr>\n",
       "      <th>0</th>\n",
       "      <td>Arizona Zervas</td>\n",
       "      <td>9844160</td>\n",
       "    </tr>\n",
       "    <tr>\n",
       "      <th>1</th>\n",
       "      <td>Post Malone</td>\n",
       "      <td>7932216</td>\n",
       "    </tr>\n",
       "  </tbody>\n",
       "</table>\n",
       "</div>"
      ],
      "text/plain": [
       "           Artist  Streams\n",
       "0  Arizona Zervas  9844160\n",
       "1     Post Malone  7932216"
      ]
     },
     "execution_count": 17,
     "metadata": {},
     "output_type": "execute_result"
    }
   ],
   "source": [
    "x = []\n",
    "y = []\n",
    "x.append(us_data.at[1, \"Streams\"])\n",
    "y.append(us_data.at[1, \"Artist\"])\n",
    "x.append(us_data.at[2, \"Streams\"])\n",
    "y.append(us_data.at[2, \"Artist\"])\n",
    "\n",
    "xy_df = pd.DataFrame ({\"Artist\": y, \"Streams\": x})\n",
    "xy_df"
   ]
  },
  {
   "cell_type": "code",
   "execution_count": 18,
   "metadata": {},
   "outputs": [
    {
     "data": {
      "text/plain": [
       "Artist     object\n",
       "Streams    object\n",
       "dtype: object"
      ]
     },
     "execution_count": 18,
     "metadata": {},
     "output_type": "execute_result"
    }
   ],
   "source": [
    "xy_df.dtypes\n"
   ]
  },
  {
   "cell_type": "code",
   "execution_count": 19,
   "metadata": {},
   "outputs": [
    {
     "data": {
      "text/plain": [
       "'9844160'"
      ]
     },
     "execution_count": 19,
     "metadata": {},
     "output_type": "execute_result"
    }
   ],
   "source": [
    "xy_df[\"Streams\"].max()"
   ]
  },
  {
   "cell_type": "code",
   "execution_count": null,
   "metadata": {},
   "outputs": [],
   "source": [
    "xy_df[\"Streams\"].sum()"
   ]
  },
  {
   "cell_type": "code",
   "execution_count": null,
   "metadata": {},
   "outputs": [],
   "source": [
    "xy_df[\"Streams\"] = xy_df[\"Streams\"].astype(int)"
   ]
  },
  {
   "cell_type": "code",
   "execution_count": null,
   "metadata": {},
   "outputs": [],
   "source": [
    "xy_df.dtypes"
   ]
  },
  {
   "cell_type": "code",
   "execution_count": null,
   "metadata": {},
   "outputs": [],
   "source": [
    "xy_df[\"Streams\"].max()"
   ]
  },
  {
   "cell_type": "code",
   "execution_count": null,
   "metadata": {},
   "outputs": [],
   "source": [
    "xy_df[\"Streams\"].sum()"
   ]
  },
  {
   "cell_type": "code",
   "execution_count": null,
   "metadata": {},
   "outputs": [],
   "source": []
  }
 ],
 "metadata": {
  "kernelspec": {
   "display_name": "Python 3",
   "language": "python",
   "name": "python3"
  },
  "language_info": {
   "codemirror_mode": {
    "name": "ipython",
    "version": 3
   },
   "file_extension": ".py",
   "mimetype": "text/x-python",
   "name": "python",
   "nbconvert_exporter": "python",
   "pygments_lexer": "ipython3",
   "version": "3.6.10"
  }
 },
 "nbformat": 4,
 "nbformat_minor": 4
}
