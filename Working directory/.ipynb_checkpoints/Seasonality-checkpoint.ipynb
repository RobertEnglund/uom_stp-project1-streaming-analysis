{
 "cells": [
  {
   "cell_type": "code",
   "execution_count": 1,
   "metadata": {},
   "outputs": [],
   "source": [
    "#is there a seasonality to frequency of streaming the Top 200 songs \n",
    "#has streaming frequency been impacted by Covid?"
   ]
  },
  {
   "cell_type": "code",
   "execution_count": 40,
   "metadata": {},
   "outputs": [
    {
     "data": {
      "text/html": [
       "<div>\n",
       "<style scoped>\n",
       "    .dataframe tbody tr th:only-of-type {\n",
       "        vertical-align: middle;\n",
       "    }\n",
       "\n",
       "    .dataframe tbody tr th {\n",
       "        vertical-align: top;\n",
       "    }\n",
       "\n",
       "    .dataframe thead th {\n",
       "        text-align: right;\n",
       "    }\n",
       "</style>\n",
       "<table border=\"1\" class=\"dataframe\">\n",
       "  <thead>\n",
       "    <tr style=\"text-align: right;\">\n",
       "      <th></th>\n",
       "      <th>Position</th>\n",
       "      <th>Track Name</th>\n",
       "      <th>Artist</th>\n",
       "      <th>Streams</th>\n",
       "      <th>URL</th>\n",
       "      <th>Date</th>\n",
       "      <th>Unique ID</th>\n",
       "    </tr>\n",
       "  </thead>\n",
       "  <tbody>\n",
       "    <tr>\n",
       "      <th>0</th>\n",
       "      <td>001</td>\n",
       "      <td>The Box</td>\n",
       "      <td>Roddy Ricch</td>\n",
       "      <td>12533419</td>\n",
       "      <td>https://open.spotify.com/track/0nbXyq5TXYPCO7p...</td>\n",
       "      <td>01.02.20</td>\n",
       "      <td>01.02.20_001</td>\n",
       "    </tr>\n",
       "    <tr>\n",
       "      <th>1</th>\n",
       "      <td>002</td>\n",
       "      <td>ROXANNE</td>\n",
       "      <td>Arizona Zervas</td>\n",
       "      <td>9844160</td>\n",
       "      <td>https://open.spotify.com/track/696DnlkuDOXcMAn...</td>\n",
       "      <td>01.02.20</td>\n",
       "      <td>01.02.20_002</td>\n",
       "    </tr>\n",
       "    <tr>\n",
       "      <th>2</th>\n",
       "      <td>003</td>\n",
       "      <td>Circles</td>\n",
       "      <td>Post Malone</td>\n",
       "      <td>7932216</td>\n",
       "      <td>https://open.spotify.com/track/21jGcNKet2qwijl...</td>\n",
       "      <td>01.02.20</td>\n",
       "      <td>01.02.20_003</td>\n",
       "    </tr>\n",
       "    <tr>\n",
       "      <th>3</th>\n",
       "      <td>004</td>\n",
       "      <td>BOP</td>\n",
       "      <td>DaBaby</td>\n",
       "      <td>7560429</td>\n",
       "      <td>https://open.spotify.com/track/6Ozh9Ok6h4Oi1wU...</td>\n",
       "      <td>01.02.20</td>\n",
       "      <td>01.02.20_004</td>\n",
       "    </tr>\n",
       "    <tr>\n",
       "      <th>4</th>\n",
       "      <td>005</td>\n",
       "      <td>Falling</td>\n",
       "      <td>Trevor Daniel</td>\n",
       "      <td>7197448</td>\n",
       "      <td>https://open.spotify.com/track/4TnjEaWOeW0eKTK...</td>\n",
       "      <td>01.02.20</td>\n",
       "      <td>01.02.20_005</td>\n",
       "    </tr>\n",
       "  </tbody>\n",
       "</table>\n",
       "</div>"
      ],
      "text/plain": [
       "  Position Track Name          Artist   Streams  \\\n",
       "0      001    The Box     Roddy Ricch  12533419   \n",
       "1      002    ROXANNE  Arizona Zervas   9844160   \n",
       "2      003    Circles     Post Malone   7932216   \n",
       "3      004        BOP          DaBaby   7560429   \n",
       "4      005    Falling   Trevor Daniel   7197448   \n",
       "\n",
       "                                                 URL      Date     Unique ID  \n",
       "0  https://open.spotify.com/track/0nbXyq5TXYPCO7p...  01.02.20  01.02.20_001  \n",
       "1  https://open.spotify.com/track/696DnlkuDOXcMAn...  01.02.20  01.02.20_002  \n",
       "2  https://open.spotify.com/track/21jGcNKet2qwijl...  01.02.20  01.02.20_003  \n",
       "3  https://open.spotify.com/track/6Ozh9Ok6h4Oi1wU...  01.02.20  01.02.20_004  \n",
       "4  https://open.spotify.com/track/4TnjEaWOeW0eKTK...  01.02.20  01.02.20_005  "
      ]
     },
     "execution_count": 40,
     "metadata": {},
     "output_type": "execute_result"
    }
   ],
   "source": [
    "# Dependencies and Setup\n",
    "import matplotlib.pyplot as plt\n",
    "import pandas as pd\n",
    "import scipy.stats as st\n",
    "import numpy as np\n",
    "from scipy.stats import linregress\n",
    "from datetime import datetime\n",
    "from datetime import date\n",
    "\n",
    "#data files\n",
    "us_data = pd.read_csv(\"../combined_csv/US_combined.csv\")\n",
    "world_data = pd.read_csv(\"../combined_csv/Global_combined.csv\")\n",
    "us_data = pd.DataFrame(us_data)\n",
    "us_data.head()"
   ]
  },
  {
   "cell_type": "code",
   "execution_count": 41,
   "metadata": {},
   "outputs": [
    {
     "name": "stdout",
     "output_type": "stream",
     "text": [
      "Date       datetime64[ns]\n",
      "Streams           float64\n",
      "dtype: object\n"
     ]
    }
   ],
   "source": [
    "# Retrieve the 'Date' and 'Streams' columns\n",
    "stream_data = us_data.loc[:,['Date', 'Streams']]\n",
    "\n",
    "# Convert the 'Streams'column into numeric datatype\n",
    "stream_data['Streams'] = pd.to_numeric(stream_data['Streams'], errors='coerce')\n",
    "\n",
    "# Convert 'Date' column into datetime datatype\n",
    "stream_data['Date'] = pd.to_datetime(stream_data['Date'], errors='coerce')\n",
    "print(stream_data.dtypes)\n",
    "\n",
    "# drop missing values\n",
    "stream_data= stream_data.dropna()\n",
    "\n",
    "# sort the dataframe by data in ascending order\n",
    "stream_update=stream_data.sort_values(by='Date')\n",
    "\n",
    "# set 'Date' as index\n",
    "stream_update.set_index('Date', inplace=True)\n"
   ]
  },
  {
   "cell_type": "code",
   "execution_count": 44,
   "metadata": {},
   "outputs": [
    {
     "data": {
      "text/html": [
       "<div>\n",
       "<style scoped>\n",
       "    .dataframe tbody tr th:only-of-type {\n",
       "        vertical-align: middle;\n",
       "    }\n",
       "\n",
       "    .dataframe tbody tr th {\n",
       "        vertical-align: top;\n",
       "    }\n",
       "\n",
       "    .dataframe thead th {\n",
       "        text-align: right;\n",
       "    }\n",
       "</style>\n",
       "<table border=\"1\" class=\"dataframe\">\n",
       "  <thead>\n",
       "    <tr style=\"text-align: right;\">\n",
       "      <th></th>\n",
       "      <th>Streams</th>\n",
       "    </tr>\n",
       "    <tr>\n",
       "      <th>Date</th>\n",
       "      <th></th>\n",
       "    </tr>\n",
       "  </thead>\n",
       "  <tbody>\n",
       "    <tr>\n",
       "      <th>2019-10-31</th>\n",
       "      <td>611748921.0</td>\n",
       "    </tr>\n",
       "    <tr>\n",
       "      <th>2019-11-07</th>\n",
       "      <td>541337139.0</td>\n",
       "    </tr>\n",
       "    <tr>\n",
       "      <th>2019-11-14</th>\n",
       "      <td>518592206.0</td>\n",
       "    </tr>\n",
       "    <tr>\n",
       "      <th>2019-11-21</th>\n",
       "      <td>527661357.0</td>\n",
       "    </tr>\n",
       "    <tr>\n",
       "      <th>2019-11-28</th>\n",
       "      <td>546030278.0</td>\n",
       "    </tr>\n",
       "  </tbody>\n",
       "</table>\n",
       "</div>"
      ],
      "text/plain": [
       "                Streams\n",
       "Date                   \n",
       "2019-10-31  611748921.0\n",
       "2019-11-07  541337139.0\n",
       "2019-11-14  518592206.0\n",
       "2019-11-21  527661357.0\n",
       "2019-11-28  546030278.0"
      ]
     },
     "execution_count": 44,
     "metadata": {},
     "output_type": "execute_result"
    }
   ],
   "source": [
    "# group original dataframe by Date and show the total number of streams by dates from 2019 to 2020\n",
    "freq_by_date = stream_data.groupby('Date').sum()\n",
    "freq_by_date.head()"
   ]
  },
  {
   "cell_type": "code",
   "execution_count": 36,
   "metadata": {},
   "outputs": [
    {
     "data": {
      "image/png": "[encoded data removed]",
      "text/plain": [
       "<Figure size 864x576 with 1 Axes>"
      ]
     },
     "metadata": {
      "needs_background": "light"
     },
     "output_type": "display_data"
    }
   ],
   "source": [
    "# create a bar plot for this dataframe by date over a year\n",
    "freq_by_date.plot(kind='bar', title = 'Music Streams Over Time', figsize=(12,8), color ='lightcoral')\n",
    "plt.tight_layout()\n",
    "plt.xlabel('Date')\n",
    "plt.ylabel('Streams (million)')\n",
    "plt.show()\n"
   ]
  },
  {
   "cell_type": "code",
   "execution_count": 42,
   "metadata": {},
   "outputs": [
    {
     "data": {
      "text/html": [
       "<div>\n",
       "<style scoped>\n",
       "    .dataframe tbody tr th:only-of-type {\n",
       "        vertical-align: middle;\n",
       "    }\n",
       "\n",
       "    .dataframe tbody tr th {\n",
       "        vertical-align: top;\n",
       "    }\n",
       "\n",
       "    .dataframe thead th {\n",
       "        text-align: right;\n",
       "    }\n",
       "</style>\n",
       "<table border=\"1\" class=\"dataframe\">\n",
       "  <thead>\n",
       "    <tr style=\"text-align: right;\">\n",
       "      <th></th>\n",
       "      <th>Streams</th>\n",
       "    </tr>\n",
       "    <tr>\n",
       "      <th>Season</th>\n",
       "      <th></th>\n",
       "    </tr>\n",
       "  </thead>\n",
       "  <tbody>\n",
       "    <tr>\n",
       "      <th>19-Q4</th>\n",
       "      <td>5.242279e+09</td>\n",
       "    </tr>\n",
       "    <tr>\n",
       "      <th>20-Q1</th>\n",
       "      <td>7.904265e+09</td>\n",
       "    </tr>\n",
       "    <tr>\n",
       "      <th>20-Q2</th>\n",
       "      <td>6.725403e+09</td>\n",
       "    </tr>\n",
       "    <tr>\n",
       "      <th>20-Q3</th>\n",
       "      <td>7.005706e+09</td>\n",
       "    </tr>\n",
       "    <tr>\n",
       "      <th>20-Q4</th>\n",
       "      <td>1.969361e+09</td>\n",
       "    </tr>\n",
       "  </tbody>\n",
       "</table>\n",
       "</div>"
      ],
      "text/plain": [
       "             Streams\n",
       "Season              \n",
       "19-Q4   5.242279e+09\n",
       "20-Q1   7.904265e+09\n",
       "20-Q2   6.725403e+09\n",
       "20-Q3   7.005706e+09\n",
       "20-Q4   1.969361e+09"
      ]
     },
     "execution_count": 42,
     "metadata": {},
     "output_type": "execute_result"
    }
   ],
   "source": [
    "# Create bins in which to place values based upon Date\n",
    "bins = [np.datetime64(date(2019,10,1)), \n",
    "        np.datetime64(date(2019,12,31)),\n",
    "        np.datetime64(date(2020,3,31)),\n",
    "        np.datetime64(date(2020,6,30)),\n",
    "        np.datetime64(date(2020,9,30)),\n",
    "        np.datetime64(date(2020,12,31))]\n",
    "\n",
    "# Create labels 'seasons' for these bins\n",
    "group_name = ['19-Q4', '20-Q1', '20-Q2', '20-Q3', '20-Q4']\n",
    "\n",
    "# Slice the data and place it into bins\n",
    "stream_update['Season'] = pd.cut(stream_update.index, bins, labels = group_name)\n",
    "\n",
    "# groupby the dataframe by Season and show the total number of streams by each season from 2019 to 2020\n",
    "season_df = stream_update.groupby('Season').sum()\n",
    "season_df"
   ]
  },
  {
   "cell_type": "code",
   "execution_count": 43,
   "metadata": {},
   "outputs": [
    {
     "data": {
      "image/png": "[encoded data removed]",
      "text/plain": [
       "<Figure size 432x288 with 1 Axes>"
      ]
     },
     "metadata": {
      "needs_background": "light"
     },
     "output_type": "display_data"
    }
   ],
   "source": [
    "# create a bar plot for the season dataframe \n",
    "season_df.plot(kind='bar', title='Music Stream Frequency by Season', color ='lightcoral')\n",
    "plt.tight_layout()\n",
    "plt.xlabel('Season')\n",
    "plt.ylabel('Streams (million)')\n",
    "plt.show()"
   ]
  }
 ],
 "metadata": {
  "kernelspec": {
   "display_name": "Python [conda env:PythonData] *",
   "language": "python",
   "name": "conda-env-PythonData-py"
  },
  "language_info": {
   "codemirror_mode": {
    "name": "ipython",
    "version": 3
   },
   "file_extension": ".py",
   "mimetype": "text/x-python",
   "name": "python",
   "nbconvert_exporter": "python",
   "pygments_lexer": "ipython3",
   "version": "3.6.12"
  }
 },
 "nbformat": 4,
 "nbformat_minor": 4
}
