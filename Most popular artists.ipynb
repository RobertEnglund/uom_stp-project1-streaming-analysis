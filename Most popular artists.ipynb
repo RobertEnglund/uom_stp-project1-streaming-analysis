{
 "cells": [
  {
   "cell_type": "code",
   "execution_count": 1,
   "metadata": {},
   "outputs": [],
   "source": [
    "#Using Spotify data, who are the most popular artists by # of streams and # of appearances (weeks of the same song and new songs) in Top 200 in the US over the past year (11/2019 - 11/2020)?"
   ]
  },
  {
   "cell_type": "code",
   "execution_count": 40,
   "metadata": {},
   "outputs": [
    {
     "data": {
      "text/html": [
       "<div>\n",
       "<style scoped>\n",
       "    .dataframe tbody tr th:only-of-type {\n",
       "        vertical-align: middle;\n",
       "    }\n",
       "\n",
       "    .dataframe tbody tr th {\n",
       "        vertical-align: top;\n",
       "    }\n",
       "\n",
       "    .dataframe thead th {\n",
       "        text-align: right;\n",
       "    }\n",
       "</style>\n",
       "<table border=\"1\" class=\"dataframe\">\n",
       "  <thead>\n",
       "    <tr style=\"text-align: right;\">\n",
       "      <th></th>\n",
       "      <th>Position</th>\n",
       "      <th>Track Name</th>\n",
       "      <th>Artist</th>\n",
       "      <th>Streams</th>\n",
       "      <th>URL</th>\n",
       "      <th>Date</th>\n",
       "      <th>Unique ID</th>\n",
       "    </tr>\n",
       "  </thead>\n",
       "  <tbody>\n",
       "    <tr>\n",
       "      <th>0</th>\n",
       "      <td>001</td>\n",
       "      <td>The Box</td>\n",
       "      <td>Roddy Ricch</td>\n",
       "      <td>12533419</td>\n",
       "      <td>https://open.spotify.com/track/0nbXyq5TXYPCO7p...</td>\n",
       "      <td>01.02.20</td>\n",
       "      <td>01.02.20_001</td>\n",
       "    </tr>\n",
       "    <tr>\n",
       "      <th>1</th>\n",
       "      <td>002</td>\n",
       "      <td>ROXANNE</td>\n",
       "      <td>Arizona Zervas</td>\n",
       "      <td>9844160</td>\n",
       "      <td>https://open.spotify.com/track/696DnlkuDOXcMAn...</td>\n",
       "      <td>01.02.20</td>\n",
       "      <td>01.02.20_002</td>\n",
       "    </tr>\n",
       "    <tr>\n",
       "      <th>2</th>\n",
       "      <td>003</td>\n",
       "      <td>Circles</td>\n",
       "      <td>Post Malone</td>\n",
       "      <td>7932216</td>\n",
       "      <td>https://open.spotify.com/track/21jGcNKet2qwijl...</td>\n",
       "      <td>01.02.20</td>\n",
       "      <td>01.02.20_003</td>\n",
       "    </tr>\n",
       "    <tr>\n",
       "      <th>3</th>\n",
       "      <td>004</td>\n",
       "      <td>BOP</td>\n",
       "      <td>DaBaby</td>\n",
       "      <td>7560429</td>\n",
       "      <td>https://open.spotify.com/track/6Ozh9Ok6h4Oi1wU...</td>\n",
       "      <td>01.02.20</td>\n",
       "      <td>01.02.20_004</td>\n",
       "    </tr>\n",
       "    <tr>\n",
       "      <th>4</th>\n",
       "      <td>005</td>\n",
       "      <td>Falling</td>\n",
       "      <td>Trevor Daniel</td>\n",
       "      <td>7197448</td>\n",
       "      <td>https://open.spotify.com/track/4TnjEaWOeW0eKTK...</td>\n",
       "      <td>01.02.20</td>\n",
       "      <td>01.02.20_005</td>\n",
       "    </tr>\n",
       "  </tbody>\n",
       "</table>\n",
       "</div>"
      ],
      "text/plain": [
       "  Position Track Name          Artist   Streams  \\\n",
       "0      001    The Box     Roddy Ricch  12533419   \n",
       "1      002    ROXANNE  Arizona Zervas   9844160   \n",
       "2      003    Circles     Post Malone   7932216   \n",
       "3      004        BOP          DaBaby   7560429   \n",
       "4      005    Falling   Trevor Daniel   7197448   \n",
       "\n",
       "                                                 URL      Date     Unique ID  \n",
       "0  https://open.spotify.com/track/0nbXyq5TXYPCO7p...  01.02.20  01.02.20_001  \n",
       "1  https://open.spotify.com/track/696DnlkuDOXcMAn...  01.02.20  01.02.20_002  \n",
       "2  https://open.spotify.com/track/21jGcNKet2qwijl...  01.02.20  01.02.20_003  \n",
       "3  https://open.spotify.com/track/6Ozh9Ok6h4Oi1wU...  01.02.20  01.02.20_004  \n",
       "4  https://open.spotify.com/track/4TnjEaWOeW0eKTK...  01.02.20  01.02.20_005  "
      ]
     },
     "execution_count": 40,
     "metadata": {},
     "output_type": "execute_result"
    }
   ],
   "source": [
    "#Dependencies\n",
    "import pandas as pd\n",
    "import numpy as np\n",
    "import matplotlib.pyplot as plt\n",
    "import os\n",
    "import csv\n",
    "import scipy.stats as st\n",
    "from scipy.stats import linregress\n",
    "\n",
    "#Read CSV\n",
    "global_data = pd.read_csv(\"Global_combined.csv\", header=0)\n",
    "us_data = pd.read_csv(\"US_combined.csv\",header=1)\n",
    "global_data.head()\n",
    "us_data.head()"
   ]
  },
  {
   "cell_type": "code",
   "execution_count": 20,
   "metadata": {},
   "outputs": [
    {
     "data": {
      "text/plain": [
       "180    52\n",
       "060    52\n",
       "108    52\n",
       "140    52\n",
       "016    52\n",
       "       ..\n",
       "015    52\n",
       "162    52\n",
       "055    52\n",
       "018    52\n",
       "101    52\n",
       "Name: Position, Length: 200, dtype: int64"
      ]
     },
     "execution_count": 20,
     "metadata": {},
     "output_type": "execute_result"
    }
   ],
   "source": [
    "#find headers in data\n",
    "#len(us_data)\n",
    "#len(global_data)\n",
    "#us_data[\"Position\"].value_counts()\n",
    "global_data[\"Position\"].value_counts()"
   ]
  },
  {
   "cell_type": "code",
   "execution_count": 19,
   "metadata": {},
   "outputs": [
    {
     "data": {
      "text/plain": [
       "10400"
      ]
     },
     "execution_count": 19,
     "metadata": {},
     "output_type": "execute_result"
    }
   ],
   "source": [
    "#Drop header and convert streams to integer \n",
    "global_data.drop(global_data[global_data.Position == \"Position\"].index, inplace=True)\n",
    "global_data[\"Streams\"] = global_data[\"Streams\"].astype(int)\n",
    "global_data[\"Artist\"] = global_data[\"Artist\"].str.replace('$','S')\n",
    "global_data[\"Track Name\"] = global_data[\"Track Name\"].str.replace('$','S')\n",
    "\n",
    "us_data.drop(us_data[us_data.Position == \"Position\"].index, inplace=True)\n",
    "us_data[\"Streams\"] = us_data[\"Streams\"].astype(int)\n",
    "us_data[\"Artist\"] = us_data[\"Artist\"].str.replace('$','S')\n",
    "us_data[\"Track Name\"] = us_data[\"Track Name\"].str.replace('$','S')\n",
    "\n",
    "len(us_data)\n",
    "len(global_data)"
   ]
  },
  {
   "cell_type": "code",
   "execution_count": 21,
   "metadata": {},
   "outputs": [
    {
     "data": {
      "text/html": [
       "<div>\n",
       "<style scoped>\n",
       "    .dataframe tbody tr th:only-of-type {\n",
       "        vertical-align: middle;\n",
       "    }\n",
       "\n",
       "    .dataframe tbody tr th {\n",
       "        vertical-align: top;\n",
       "    }\n",
       "\n",
       "    .dataframe thead th {\n",
       "        text-align: right;\n",
       "    }\n",
       "</style>\n",
       "<table border=\"1\" class=\"dataframe\">\n",
       "  <thead>\n",
       "    <tr style=\"text-align: right;\">\n",
       "      <th></th>\n",
       "      <th>Artist</th>\n",
       "      <th>List count</th>\n",
       "    </tr>\n",
       "  </thead>\n",
       "  <tbody>\n",
       "    <tr>\n",
       "      <th>0</th>\n",
       "      <td>Juice WRLD</td>\n",
       "      <td>309</td>\n",
       "    </tr>\n",
       "    <tr>\n",
       "      <th>1</th>\n",
       "      <td>Billie Eilish</td>\n",
       "      <td>303</td>\n",
       "    </tr>\n",
       "    <tr>\n",
       "      <th>2</th>\n",
       "      <td>Post Malone</td>\n",
       "      <td>302</td>\n",
       "    </tr>\n",
       "    <tr>\n",
       "      <th>3</th>\n",
       "      <td>Bad Bunny</td>\n",
       "      <td>290</td>\n",
       "    </tr>\n",
       "    <tr>\n",
       "      <th>4</th>\n",
       "      <td>Ed Sheeran</td>\n",
       "      <td>239</td>\n",
       "    </tr>\n",
       "  </tbody>\n",
       "</table>\n",
       "</div>"
      ],
      "text/plain": [
       "          Artist  List count\n",
       "0     Juice WRLD         309\n",
       "1  Billie Eilish         303\n",
       "2    Post Malone         302\n",
       "3      Bad Bunny         290\n",
       "4     Ed Sheeran         239"
      ]
     },
     "execution_count": 21,
     "metadata": {},
     "output_type": "execute_result"
    }
   ],
   "source": [
    "#Create unique list of artists, count number of times they appear on top 200 globally during time period\n",
    "global_data[\"Artist\"].unique()\n",
    "global_hits_count = global_data[\"Artist\"].value_counts()\n",
    "\n",
    "#Put count into a dataframe\n",
    "global_hits_count = pd.DataFrame(global_hits_count)\n",
    "global_hits_count = global_hits_count.reset_index()\n",
    "global_hits_count.columns = ['Artist', 'List count']\n",
    "\n",
    "global_hits_count.head()"
   ]
  },
  {
   "cell_type": "code",
   "execution_count": 29,
   "metadata": {},
   "outputs": [
    {
     "data": {
      "text/html": [
       "<div>\n",
       "<style scoped>\n",
       "    .dataframe tbody tr th:only-of-type {\n",
       "        vertical-align: middle;\n",
       "    }\n",
       "\n",
       "    .dataframe tbody tr th {\n",
       "        vertical-align: top;\n",
       "    }\n",
       "\n",
       "    .dataframe thead th {\n",
       "        text-align: right;\n",
       "    }\n",
       "</style>\n",
       "<table border=\"1\" class=\"dataframe\">\n",
       "  <thead>\n",
       "    <tr style=\"text-align: right;\">\n",
       "      <th></th>\n",
       "      <th>Artist</th>\n",
       "      <th>List count</th>\n",
       "    </tr>\n",
       "  </thead>\n",
       "  <tbody>\n",
       "    <tr>\n",
       "      <th>0</th>\n",
       "      <td>Juice WRLD</td>\n",
       "      <td>556</td>\n",
       "    </tr>\n",
       "    <tr>\n",
       "      <th>1</th>\n",
       "      <td>Post Malone</td>\n",
       "      <td>457</td>\n",
       "    </tr>\n",
       "    <tr>\n",
       "      <th>2</th>\n",
       "      <td>Billie Eilish</td>\n",
       "      <td>293</td>\n",
       "    </tr>\n",
       "    <tr>\n",
       "      <th>3</th>\n",
       "      <td>Lil Uzi Vert</td>\n",
       "      <td>288</td>\n",
       "    </tr>\n",
       "    <tr>\n",
       "      <th>4</th>\n",
       "      <td>DaBaby</td>\n",
       "      <td>250</td>\n",
       "    </tr>\n",
       "  </tbody>\n",
       "</table>\n",
       "</div>"
      ],
      "text/plain": [
       "          Artist  List count\n",
       "0     Juice WRLD         556\n",
       "1    Post Malone         457\n",
       "2  Billie Eilish         293\n",
       "3   Lil Uzi Vert         288\n",
       "4         DaBaby         250"
      ]
     },
     "execution_count": 29,
     "metadata": {},
     "output_type": "execute_result"
    }
   ],
   "source": [
    "#Create unique list of artists, count number of times they appear on top 200 in the US during time period\n",
    "us_data[\"Artist\"].unique()\n",
    "us_hits_count = us_data[\"Artist\"].value_counts()\n",
    "\n",
    "#Put count into a dataframe\n",
    "us_hits_count = pd.DataFrame(us_hits_count)\n",
    "us_hits_count = us_hits_count.reset_index()\n",
    "us_hits_count.columns = ['Artist', 'List count']\n",
    "\n",
    "us_hits_count.head()\n"
   ]
  },
  {
   "cell_type": "code",
   "execution_count": 30,
   "metadata": {},
   "outputs": [
    {
     "data": {
      "text/html": [
       "<div>\n",
       "<style scoped>\n",
       "    .dataframe tbody tr th:only-of-type {\n",
       "        vertical-align: middle;\n",
       "    }\n",
       "\n",
       "    .dataframe tbody tr th {\n",
       "        vertical-align: top;\n",
       "    }\n",
       "\n",
       "    .dataframe thead th {\n",
       "        text-align: right;\n",
       "    }\n",
       "</style>\n",
       "<table border=\"1\" class=\"dataframe\">\n",
       "  <thead>\n",
       "    <tr style=\"text-align: right;\">\n",
       "      <th></th>\n",
       "      <th>Artist</th>\n",
       "      <th>Streams</th>\n",
       "    </tr>\n",
       "  </thead>\n",
       "  <tbody>\n",
       "    <tr>\n",
       "      <th>0</th>\n",
       "      <td>Billie Eilish</td>\n",
       "      <td>2.797831e+09</td>\n",
       "    </tr>\n",
       "    <tr>\n",
       "      <th>1</th>\n",
       "      <td>Bad Bunny</td>\n",
       "      <td>2.736754e+09</td>\n",
       "    </tr>\n",
       "    <tr>\n",
       "      <th>2</th>\n",
       "      <td>Juice WRLD</td>\n",
       "      <td>2.703241e+09</td>\n",
       "    </tr>\n",
       "    <tr>\n",
       "      <th>3</th>\n",
       "      <td>Post Malone</td>\n",
       "      <td>2.630329e+09</td>\n",
       "    </tr>\n",
       "    <tr>\n",
       "      <th>4</th>\n",
       "      <td>The Weeknd</td>\n",
       "      <td>2.580859e+09</td>\n",
       "    </tr>\n",
       "  </tbody>\n",
       "</table>\n",
       "</div>"
      ],
      "text/plain": [
       "          Artist       Streams\n",
       "0  Billie Eilish  2.797831e+09\n",
       "1      Bad Bunny  2.736754e+09\n",
       "2     Juice WRLD  2.703241e+09\n",
       "3    Post Malone  2.630329e+09\n",
       "4     The Weeknd  2.580859e+09"
      ]
     },
     "execution_count": 30,
     "metadata": {},
     "output_type": "execute_result"
    }
   ],
   "source": [
    "#Groupby artist and sum their individual number of streams\n",
    "global_streams = global_data.groupby(\"Artist\")\n",
    "global_streams = global_streams.sum()\n",
    "global_streams = global_streams.sort_values(\"Streams\", ascending=False)\n",
    "\n",
    "#Put sums into a dataframe\n",
    "global_streams = pd.DataFrame(global_streams)\n",
    "global_streams = global_streams.reset_index()\n",
    "\n",
    "global_streams.head()"
   ]
  },
  {
   "cell_type": "code",
   "execution_count": 32,
   "metadata": {},
   "outputs": [
    {
     "data": {
      "text/html": [
       "<div>\n",
       "<style scoped>\n",
       "    .dataframe tbody tr th:only-of-type {\n",
       "        vertical-align: middle;\n",
       "    }\n",
       "\n",
       "    .dataframe tbody tr th {\n",
       "        vertical-align: top;\n",
       "    }\n",
       "\n",
       "    .dataframe thead th {\n",
       "        text-align: right;\n",
       "    }\n",
       "</style>\n",
       "<table border=\"1\" class=\"dataframe\">\n",
       "  <thead>\n",
       "    <tr style=\"text-align: right;\">\n",
       "      <th></th>\n",
       "      <th>Artist</th>\n",
       "      <th>Streams</th>\n",
       "    </tr>\n",
       "  </thead>\n",
       "  <tbody>\n",
       "    <tr>\n",
       "      <th>0</th>\n",
       "      <td>Juice WRLD</td>\n",
       "      <td>1806825092</td>\n",
       "    </tr>\n",
       "    <tr>\n",
       "      <th>1</th>\n",
       "      <td>Post Malone</td>\n",
       "      <td>1203055140</td>\n",
       "    </tr>\n",
       "    <tr>\n",
       "      <th>2</th>\n",
       "      <td>DaBaby</td>\n",
       "      <td>874590502</td>\n",
       "    </tr>\n",
       "    <tr>\n",
       "      <th>3</th>\n",
       "      <td>Lil Uzi Vert</td>\n",
       "      <td>841575775</td>\n",
       "    </tr>\n",
       "    <tr>\n",
       "      <th>4</th>\n",
       "      <td>Billie Eilish</td>\n",
       "      <td>732809768</td>\n",
       "    </tr>\n",
       "  </tbody>\n",
       "</table>\n",
       "</div>"
      ],
      "text/plain": [
       "          Artist     Streams\n",
       "0     Juice WRLD  1806825092\n",
       "1    Post Malone  1203055140\n",
       "2         DaBaby   874590502\n",
       "3   Lil Uzi Vert   841575775\n",
       "4  Billie Eilish   732809768"
      ]
     },
     "execution_count": 32,
     "metadata": {},
     "output_type": "execute_result"
    }
   ],
   "source": [
    "#Groupby artist and sum their individual number of streams\n",
    "us_hits_streams = us_data.groupby(\"Artist\")\n",
    "us_hits_streams = us_hits_streams.sum()\n",
    "us_hits_streams = us_hits_streams.sort_values(\"Streams\", ascending=False)\n",
    "\n",
    "#Put sums into a dataframe\n",
    "us_hits_streams = pd.DataFrame(us_hits_streams)\n",
    "us_hits_streams = us_hits_streams.reset_index()\n",
    "\n",
    "us_hits_streams.head()"
   ]
  },
  {
   "cell_type": "code",
   "execution_count": 36,
   "metadata": {},
   "outputs": [
    {
     "data": {
      "text/html": [
       "<div>\n",
       "<style scoped>\n",
       "    .dataframe tbody tr th:only-of-type {\n",
       "        vertical-align: middle;\n",
       "    }\n",
       "\n",
       "    .dataframe tbody tr th {\n",
       "        vertical-align: top;\n",
       "    }\n",
       "\n",
       "    .dataframe thead th {\n",
       "        text-align: right;\n",
       "    }\n",
       "</style>\n",
       "<table border=\"1\" class=\"dataframe\">\n",
       "  <thead>\n",
       "    <tr style=\"text-align: right;\">\n",
       "      <th></th>\n",
       "      <th>Artist</th>\n",
       "      <th>List count</th>\n",
       "      <th>Streams</th>\n",
       "    </tr>\n",
       "  </thead>\n",
       "  <tbody>\n",
       "    <tr>\n",
       "      <th>0</th>\n",
       "      <td>Juice WRLD</td>\n",
       "      <td>309</td>\n",
       "      <td>2.703241e+09</td>\n",
       "    </tr>\n",
       "    <tr>\n",
       "      <th>1</th>\n",
       "      <td>Billie Eilish</td>\n",
       "      <td>303</td>\n",
       "      <td>2.797831e+09</td>\n",
       "    </tr>\n",
       "    <tr>\n",
       "      <th>2</th>\n",
       "      <td>Post Malone</td>\n",
       "      <td>302</td>\n",
       "      <td>2.630329e+09</td>\n",
       "    </tr>\n",
       "    <tr>\n",
       "      <th>3</th>\n",
       "      <td>Bad Bunny</td>\n",
       "      <td>290</td>\n",
       "      <td>2.736754e+09</td>\n",
       "    </tr>\n",
       "    <tr>\n",
       "      <th>4</th>\n",
       "      <td>Ed Sheeran</td>\n",
       "      <td>239</td>\n",
       "      <td>1.727011e+09</td>\n",
       "    </tr>\n",
       "  </tbody>\n",
       "</table>\n",
       "</div>"
      ],
      "text/plain": [
       "          Artist  List count       Streams\n",
       "0     Juice WRLD         309  2.703241e+09\n",
       "1  Billie Eilish         303  2.797831e+09\n",
       "2    Post Malone         302  2.630329e+09\n",
       "3      Bad Bunny         290  2.736754e+09\n",
       "4     Ed Sheeran         239  1.727011e+09"
      ]
     },
     "execution_count": 36,
     "metadata": {},
     "output_type": "execute_result"
    }
   ],
   "source": [
    "#Merges for plotting\n",
    "us_plots = us_hits_count.merge(us_hits_streams, on=\"Artist\")\n",
    "us_plots.head()\n",
    "\n",
    "global_plots = global_hits_count.merge(global_streams, on=\"Artist\")\n",
    "global_plots.head()"
   ]
  },
  {
   "cell_type": "code",
   "execution_count": 50,
   "metadata": {},
   "outputs": [
    {
     "data": {
      "image/png": "[encoded data removed]",
      "text/plain": [
       "<Figure size 432x288 with 1 Axes>"
      ]
     },
     "metadata": {
      "needs_background": "light"
     },
     "output_type": "display_data"
    },
    {
     "name": "stdout",
     "output_type": "stream",
     "text": [
      "Correlation coefficient = 0.9\n",
      "\n"
     ]
    }
   ],
   "source": [
    "#Global regress\n",
    "x_axis = global_plots[\"List count\"]\n",
    "y_axis = global_plots[\"Streams\"]\n",
    "x_max = global_plots[\"Streams\"].max()\n",
    "\n",
    "# run linregress to get components for correlaton coefficient and regression model\n",
    "(slope, intercept, rvalue, pvalue, stderr) = linregress(x_axis,  y_axis)\n",
    "regress_values = x_axis * slope + intercept\n",
    "\n",
    "# calc correlation coefficient and format regression model equation\n",
    "correlation_coefficient = round(rvalue**2, 2)\n",
    "line_eq = \"y = \" + str(round(slope,2)) + \"x + \" + str(round(intercept,2))\n",
    "\n",
    "# format and print plot\n",
    "fig = plt.figure()\n",
    "plt.scatter(x_axis, y_axis, marker=\"o\", facecolors=\"#79abcd\")\n",
    "plt.plot(x_axis,regress_values,\"#f70d30\")\n",
    "plt.annotate(line_eq, (0, x_max), fontsize=15,color=\"#f70d30\",fontweight=\"bold\")\n",
    "plt.title(\"Number of appearances on Top 200 vs number of streams\")\n",
    "plt.xlabel(\"Number of artist appearances on Top 200\")\n",
    "plt.ylabel(\"Number of streams by artist on Top 200\")\n",
    "plt.show()\n",
    "print(f'Correlation coefficient = {correlation_coefficient}')\n",
    "print('')"
   ]
  },
  {
   "cell_type": "code",
   "execution_count": null,
   "metadata": {},
   "outputs": [],
   "source": []
  }
 ],
 "metadata": {
  "kernelspec": {
   "display_name": "Python [conda env:PythonData]",
   "language": "python",
   "name": "conda-env-PythonData-py"
  },
  "language_info": {
   "codemirror_mode": {
    "name": "ipython",
    "version": 3
   },
   "file_extension": ".py",
   "mimetype": "text/x-python",
   "name": "python",
   "nbconvert_exporter": "python",
   "pygments_lexer": "ipython3",
   "version": "3.6.10"
  }
 },
 "nbformat": 4,
 "nbformat_minor": 4
}
