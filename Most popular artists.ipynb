{
 "cells": [
  {
   "cell_type": "code",
   "execution_count": null,
   "metadata": {},
   "outputs": [],
   "source": [
    "#Using Spotify data, who are the most popular artists by # of streams and Top 200 in the US over the past year (11/2019 - 11/2020)?"
   ]
  },
  {
   "cell_type": "code",
   "execution_count": null,
   "metadata": {},
   "outputs": [],
   "source": [
    "#Dependencies\n",
    "\n"
   ]
  },
  {
   "cell_type": "code",
   "execution_count": null,
   "metadata": {},
   "outputs": [],
   "source": [
    "#define variables\n",
    "list_of_artists=[]\n",
    "artist_count=[]\n",
    "artists_unique = []\n",
    "total_hits_by_artist = []\n",
    "\n",
    "\n",
    "# start looping through rows\n",
    "    for row in data:\n",
    "\n",
    "        # append unique names to the list of artists\n",
    "        if row[2] not in artists_unique:\n",
    "            artists_unique.append(row[2])\n",
    "\n",
    "        # make a list of all the artists with hits to count artists with the most hits\n",
    "        list_of_artists.append(row[2])\n",
    "\n",
    "    # start a second loop that will populate the artist_count with each artist\n",
    "    for artist in artists_unique:\n",
    "        artist_count.append(list_of_artists.count(artist))\n",
    "\n",
    "    # find the top artist using index position of the max count in artist_count\n",
    "    top_artist = artists_unique[artist_count.index(max(artist_count))]\n",
    "    \n",
    "    #how to find the next 4 top artists? Sort the artist_count by and then take only the top5 out?\n"
   ]
  },
  {
   "cell_type": "code",
   "execution_count": null,
   "metadata": {},
   "outputs": [],
   "source": [
    "#Total number of streams by artist\n",
    "#Rank the artists by total number of streams\n",
    "\n",
    "#Create a list of artists, keeping repeats to count\n",
    "#Count number of times each unique artist comes up on the top 200 songs by artist list\n",
    "\n",
    "#Who are the top artists\n"
   ]
  }
 ],
 "metadata": {
  "kernelspec": {
   "display_name": "Python [conda env:PythonData]",
   "language": "python",
   "name": "conda-env-PythonData-py"
  },
  "language_info": {
   "codemirror_mode": {
    "name": "ipython",
    "version": 3
   },
   "file_extension": ".py",
   "mimetype": "text/x-python",
   "name": "python",
   "nbconvert_exporter": "python",
   "pygments_lexer": "ipython3",
   "version": "3.6.10"
  }
 },
 "nbformat": 4,
 "nbformat_minor": 4
}
